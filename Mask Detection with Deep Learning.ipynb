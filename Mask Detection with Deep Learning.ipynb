{
 "cells": [
  {
   "cell_type": "code",
   "execution_count": 1,
   "metadata": {},
   "outputs": [
    {
     "name": "stderr",
     "output_type": "stream",
     "text": [
      "Using TensorFlow backend.\n"
     ]
    }
   ],
   "source": [
    "import tensorflow as tf\n",
    "import pandas as pd\n",
    "import numpy as np\n",
    "import matplotlib.pyplot as plt\n",
    "from keras.models import Sequential\n",
    "from keras.layers import Conv2D, MaxPooling2D\n",
    "from keras.layers import Flatten, Dense\n",
    "import cv2\n",
    "from keras.preprocessing.image import ImageDataGenerator\n",
    "import warnings\n",
    "warnings.filterwarnings(\"ignore\")"
   ]
  },
  {
   "cell_type": "code",
   "execution_count": 2,
   "metadata": {},
   "outputs": [],
   "source": [
    "train_datagen = ImageDataGenerator(rescale=1./255,\n",
    "                                  shear_range=0.2,\n",
    "                                  zoom_range=0.2)\n",
    "test_datagen = ImageDataGenerator(rescale=1./255)"
   ]
  },
  {
   "cell_type": "code",
   "execution_count": 3,
   "metadata": {},
   "outputs": [
    {
     "name": "stdout",
     "output_type": "stream",
     "text": [
      "Found 958 images belonging to 2 classes.\n",
      "Found 406 images belonging to 2 classes.\n"
     ]
    }
   ],
   "source": [
    "train_set = train_datagen.flow_from_directory('C:\\\\Users\\\\Arpitha Ananth\\\\Documents\\\\Programming in Data Science\\\\Practice Py\\\\Knowledge Base\\\\Face Recognition\\\\Mask Recogonition\\\\data\\\\Train Data',\n",
    "                                               target_size=(64, 64),class_mode='binary')\n",
    "test_set = test_datagen.flow_from_directory('C:\\\\Users\\\\Arpitha Ananth\\\\Documents\\\\Programming in Data Science\\\\Practice Py\\\\Knowledge Base\\\\Face Recognition\\\\Mask Recogonition\\\\data\\\\Test Data',\n",
    "                                            target_size=(64, 64),class_mode='binary')"
   ]
  },
  {
   "cell_type": "code",
   "execution_count": 4,
   "metadata": {},
   "outputs": [
    {
     "name": "stdout",
     "output_type": "stream",
     "text": [
      "WARNING:tensorflow:From C:\\Users\\Arpitha Ananth\\Anaconda3\\envs\\TensorFlow1\\lib\\site-packages\\tensorflow_core\\python\\ops\\resource_variable_ops.py:1630: calling BaseResourceVariable.__init__ (from tensorflow.python.ops.resource_variable_ops) with constraint is deprecated and will be removed in a future version.\n",
      "Instructions for updating:\n",
      "If using Keras pass *_constraint arguments to layers.\n",
      "WARNING:tensorflow:From C:\\Users\\Arpitha Ananth\\Anaconda3\\envs\\TensorFlow1\\lib\\site-packages\\keras\\backend\\tensorflow_backend.py:4070: The name tf.nn.max_pool is deprecated. Please use tf.nn.max_pool2d instead.\n",
      "\n",
      "WARNING:tensorflow:From C:\\Users\\Arpitha Ananth\\Anaconda3\\envs\\TensorFlow1\\lib\\site-packages\\tensorflow_core\\python\\ops\\nn_impl.py:183: where (from tensorflow.python.ops.array_ops) is deprecated and will be removed in a future version.\n",
      "Instructions for updating:\n",
      "Use tf.where in 2.0, which has the same broadcast rule as np.where\n"
     ]
    }
   ],
   "source": [
    "classifier = Sequential()\n",
    "classifier.add(Conv2D(64,(3,3),input_shape = (64,64,3), activation = 'relu'))\n",
    "classifier.add(MaxPooling2D(pool_size = (2,2)))\n",
    "\n",
    "classifier.add(Conv2D(32,(3,3), activation = 'relu'))\n",
    "classifier.add(MaxPooling2D(pool_size = (2,2)))\n",
    "\n",
    "classifier.add(Flatten())\n",
    "classifier.add(Dense(units = 1, activation = 'sigmoid'))\n",
    "\n",
    "classifier.compile(optimizer = 'adam', loss = 'binary_crossentropy', metrics = ['accuracy'])\n"
   ]
  },
  {
   "cell_type": "code",
   "execution_count": 5,
   "metadata": {},
   "outputs": [
    {
     "name": "stdout",
     "output_type": "stream",
     "text": [
      "Model: \"sequential_1\"\n",
      "_________________________________________________________________\n",
      "Layer (type)                 Output Shape              Param #   \n",
      "=================================================================\n",
      "conv2d_1 (Conv2D)            (None, 62, 62, 64)        1792      \n",
      "_________________________________________________________________\n",
      "max_pooling2d_1 (MaxPooling2 (None, 31, 31, 64)        0         \n",
      "_________________________________________________________________\n",
      "conv2d_2 (Conv2D)            (None, 29, 29, 32)        18464     \n",
      "_________________________________________________________________\n",
      "max_pooling2d_2 (MaxPooling2 (None, 14, 14, 32)        0         \n",
      "_________________________________________________________________\n",
      "flatten_1 (Flatten)          (None, 6272)              0         \n",
      "_________________________________________________________________\n",
      "dense_1 (Dense)              (None, 1)                 6273      \n",
      "=================================================================\n",
      "Total params: 26,529\n",
      "Trainable params: 26,529\n",
      "Non-trainable params: 0\n",
      "_________________________________________________________________\n"
     ]
    }
   ],
   "source": [
    "classifier.summary()"
   ]
  },
  {
   "cell_type": "code",
   "execution_count": 6,
   "metadata": {},
   "outputs": [
    {
     "name": "stdout",
     "output_type": "stream",
     "text": [
      "WARNING:tensorflow:From C:\\Users\\Arpitha Ananth\\Anaconda3\\envs\\TensorFlow1\\lib\\site-packages\\keras\\backend\\tensorflow_backend.py:422: The name tf.global_variables is deprecated. Please use tf.compat.v1.global_variables instead.\n",
      "\n",
      "Epoch 1/10\n",
      "30/30 [==============================] - 4s 136ms/step - loss: 0.5824 - accuracy: 0.7223 - val_loss: 0.3948 - val_accuracy: 0.8276\n",
      "Epoch 2/10\n",
      "30/30 [==============================] - 4s 129ms/step - loss: 0.2303 - accuracy: 0.9228 - val_loss: 0.3020 - val_accuracy: 0.9163\n",
      "Epoch 3/10\n",
      "30/30 [==============================] - 4s 118ms/step - loss: 0.1313 - accuracy: 0.9541 - val_loss: 0.0305 - val_accuracy: 0.9458\n",
      "Epoch 4/10\n",
      "30/30 [==============================] - 4s 131ms/step - loss: 0.1041 - accuracy: 0.9645 - val_loss: 0.0855 - val_accuracy: 0.9507\n",
      "Epoch 5/10\n",
      "30/30 [==============================] - 3s 111ms/step - loss: 0.0877 - accuracy: 0.9718 - val_loss: 0.0494 - val_accuracy: 0.9655\n",
      "Epoch 6/10\n",
      "30/30 [==============================] - 4s 138ms/step - loss: 0.0771 - accuracy: 0.9770 - val_loss: 0.1028 - val_accuracy: 0.9754\n",
      "Epoch 7/10\n",
      "30/30 [==============================] - 4s 118ms/step - loss: 0.0747 - accuracy: 0.9802 - val_loss: 0.0243 - val_accuracy: 0.9754\n",
      "Epoch 8/10\n",
      "30/30 [==============================] - 5s 159ms/step - loss: 0.0631 - accuracy: 0.9854 - val_loss: 0.1077 - val_accuracy: 0.9778\n",
      "Epoch 9/10\n",
      "30/30 [==============================] - 4s 138ms/step - loss: 0.0702 - accuracy: 0.9823 - val_loss: 0.0700 - val_accuracy: 0.9581\n",
      "Epoch 10/10\n",
      "30/30 [==============================] - 3s 112ms/step - loss: 0.0545 - accuracy: 0.9833 - val_loss: 0.1242 - val_accuracy: 0.9803\n"
     ]
    }
   ],
   "source": [
    "history= classifier.fit_generator(\n",
    "        train_set,\n",
    "        epochs=10,\n",
    "        steps_per_epoch=30,\n",
    "        shuffle=True,\n",
    "        validation_data=test_set)"
   ]
  },
  {
   "cell_type": "code",
   "execution_count": 7,
   "metadata": {},
   "outputs": [
    {
     "data": {
      "image/png": "[encoded data removed]",
      "text/plain": [
       "<Figure size 432x288 with 1 Axes>"
      ]
     },
     "metadata": {
      "needs_background": "light"
     },
     "output_type": "display_data"
    }
   ],
   "source": [
    "from matplotlib import pyplot\n",
    "pyplot.plot(history.history['loss'], label='train')\n",
    "pyplot.plot(history.history['val_loss'], label='test')\n",
    "pyplot.legend()\n",
    "pyplot.show()"
   ]
  },
  {
   "cell_type": "code",
   "execution_count": 8,
   "metadata": {},
   "outputs": [
    {
     "data": {
      "image/png": "[encoded data removed]",
      "text/plain": [
       "<Figure size 432x288 with 1 Axes>"
      ]
     },
     "metadata": {
      "needs_background": "light"
     },
     "output_type": "display_data"
    }
   ],
   "source": [
    "from matplotlib import pyplot\n",
    "pyplot.plot(history.history['accuracy'], label='train')\n",
    "pyplot.plot(history.history['val_accuracy'], label='test')\n",
    "pyplot.legend()\n",
    "pyplot.show()"
   ]
  },
  {
   "cell_type": "code",
   "execution_count": 9,
   "metadata": {},
   "outputs": [],
   "source": [
    "face_cascade = cv2.CascadeClassifier(r'C:\\Users\\Arpitha Ananth\\Documents\\Programming in Data Science\\Practice Py\\Knowledge Base\\Computer Vision\\Module_1_Face_Recognition\\haarcascade_frontalface_default.xml')"
   ]
  },
  {
   "cell_type": "code",
   "execution_count": 29,
   "metadata": {},
   "outputs": [],
   "source": [
    "video_capture = cv2.VideoCapture(0)\n",
    "fourcc = cv2.VideoWriter_fourcc(*'DIVX') \n",
    "out = cv2.VideoWriter('check1.mp4', fourcc, 15.0, (640, 480)) \n",
    "\n",
    "while True:\n",
    "    ret,frame =video_capture.read() \n",
    "    res_frame = cv2.resize(frame, (frame.shape[1] // 4, frame.shape[0] //4))\n",
    "    faces = face_cascade.detectMultiScale(res_frame)\n",
    "    for f in faces:\n",
    "        (x, y, w, h) = [v * 4 for v in f] \n",
    "        face_img = frame[y:y+h, x:x+w]\n",
    "        resized=cv2.resize(face_img,(64,64))\n",
    "        normalized=resized/255.0\n",
    "        reshaped=np.reshape(normalized,(1,64,64,3))\n",
    "        reshaped = np.vstack([reshaped])\n",
    "        result=classifier.predict(reshaped)\n",
    "        if result >= 0.6:\n",
    "            prediction = 'Mask'\n",
    "        else:\n",
    "            prediction = 'No Mask'\n",
    "        cv2.rectangle(frame,(x,y),(x+w,y+h),(0,255,255),2)\n",
    "        cv2.putText(frame, prediction, (x, y-10),cv2.FONT_HERSHEY_SIMPLEX,0.8,(255,255,255),2)\n",
    "    \n",
    "    out.write(frame)\n",
    "    cv2.imshow('Video',frame)\n",
    "    key = cv2.waitKey(10)\n",
    "    if key == 27: #The Esc key\n",
    "        break\n",
    "video_capture.release()\n",
    "cv2.destroyAllWindows()"
   ]
  }
 ],
 "metadata": {
  "kernelspec": {
   "display_name": "Python 3",
   "language": "python",
   "name": "python3"
  },
  "language_info": {
   "codemirror_mode": {
    "name": "ipython",
    "version": 3
   },
   "file_extension": ".py",
   "mimetype": "text/x-python",
   "name": "python",
   "nbconvert_exporter": "python",
   "pygments_lexer": "ipython3",
   "version": "3.7.6"
  }
 },
 "nbformat": 4,
 "nbformat_minor": 2
}
